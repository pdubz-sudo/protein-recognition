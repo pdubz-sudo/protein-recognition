{
 "cells": [
  {
   "cell_type": "code",
   "execution_count": 1,
   "metadata": {},
   "outputs": [],
   "source": [
    "import os\n",
    "from PIL import Image\n",
    "import numpy as np\n",
    "import h5py"
   ]
  },
  {
   "cell_type": "code",
   "execution_count": null,
   "metadata": {},
   "outputs": [],
   "source": [
    "rootdir = r\"D:\\kaggle-kaggle-protien-data\\scripts\\practice-images\"\n",
    "\n",
    "image_arrays = []\n",
    "for subdir, dirs, files in os.walk(rootdir):\n",
    "    for file in files:\n",
    "#         print(subdir + os.sep + file)\n",
    "        filepath = subdir + os.sep + file\n",
    "#         print(np.asarray(Image.open(filepath)))\n",
    "        imarr = np.asarray(Image.open(filepath))\n",
    "#         image_arrays.append(imarr)\n",
    "#         print(filepath)\n",
    "        image_arrays.append(imarr.flatten())"
   ]
  },
  {
   "cell_type": "code",
   "execution_count": null,
   "metadata": {},
   "outputs": [],
   "source": [
    "a = np.reshape(image_arrays, newshape=(-1,4,512,512))\n",
    "np.allclose(check,test[0,0,:,:])"
   ]
  },
  {
   "cell_type": "code",
   "execution_count": null,
   "metadata": {},
   "outputs": [],
   "source": [
    "# Numpy is making your channels the second dimension!!\n",
    "\n",
    "np.reshape(np.arange(96), newshape=(2,3,4,4))"
   ]
  },
  {
   "cell_type": "code",
   "execution_count": null,
   "metadata": {},
   "outputs": [],
   "source": [
    "# Numpy is making your channels the second dimension!!\n",
    "\n",
    "a= np.reshape(np.arange(96), newshape=(2,3,4,4))"
   ]
  },
  {
   "cell_type": "code",
   "execution_count": null,
   "metadata": {},
   "outputs": [],
   "source": [
    "test = np.reshape(image_arrays, newshape=(-1, 4, 512, 512))\n",
    "check = np.asarray(Image.open(r\"D:\\kaggle-kaggle-protien-data\\scripts\\practice-images\\000a6c98-bb9b-11e8-b2b9-ac1f6b6435d0_blue.png\"))\n",
    "print(np.allclose(test[0,0,:,:],check))\n",
    "Image.fromarray(test[2,1,:,:])"
   ]
  },
  {
   "cell_type": "code",
   "execution_count": null,
   "metadata": {},
   "outputs": [],
   "source": [
    "rootdir = r\"D:\\kaggle-kaggle-protien-data\\train\"\n",
    "\n",
    "image_arrays = []\n",
    "for subdir, dirs, files in os.walk(rootdir):\n",
    "    for file in files:\n",
    "#         print(subdir + os.sep + file)\n",
    "        filepath = subdir + os.sep + file\n",
    "#         print(np.asarray(Image.open(filepath)))\n",
    "        imarr = np.asarray(Image.open(filepath))\n",
    "        image_arrays.append(imarr)"
   ]
  },
  {
   "cell_type": "code",
   "execution_count": null,
   "metadata": {},
   "outputs": [],
   "source": [
    "len(image_arrays)"
   ]
  },
  {
   "cell_type": "code",
   "execution_count": null,
   "metadata": {},
   "outputs": [],
   "source": [
    "# import imageio\n",
    "# rootdir = \"D:\\kaggle-kaggle-protien-data\\scripts\"\n",
    "# for subdir, dirs, files in os.walk(rootdir):\n",
    "#     for file in files:\n",
    "# #         #print os.path.join(subdir, file)\n",
    "#         filepath = subdir + os.sep + file\n",
    "\n",
    "#         if filepath.endswith(\".png\"):\n",
    "#             print(file)\n",
    "#             print(filepath)\n",
    "#             img = imageio.imread(filepath)\n",
    "#             print(img)\n",
    "#             plt.figure(figsize=(10,10))\n",
    "#             imshow(img)\n",
    "#             plt.show()"
   ]
  },
  {
   "cell_type": "code",
   "execution_count": null,
   "metadata": {},
   "outputs": [],
   "source": [
    "with open('train_arrays.pkl', 'wb') as f:\n",
    "    pickle.dump(image_arrays, f)"
   ]
  },
  {
   "cell_type": "code",
   "execution_count": null,
   "metadata": {},
   "outputs": [],
   "source": [
    "import h5py\n",
    "with h5py.File('image_arrays.h5', 'w', libver='latest') as f:\n",
    "    for i, arr in enumerate(image_arrays):\n",
    "        dset = f.create_dataset(str(i), shape=(512, 512), data=arr,\n",
    "                                chunks=(512,512), compression='gzip', compression_opts=9)"
   ]
  },
  {
   "cell_type": "code",
   "execution_count": null,
   "metadata": {},
   "outputs": [],
   "source": [
    "# with h5py.File('image_arrays.h5', 'w', libver='latest') as f:\n",
    "#     dset = f.create_dataset()"
   ]
  },
  {
   "cell_type": "code",
   "execution_count": null,
   "metadata": {},
   "outputs": [],
   "source": [
    "###################################################\n",
    "# rootdir = r\"D:\\kaggle-kaggle-protien-data\\scripts\\practice-images\"\n",
    "check = Image.open(r\"D:\\kaggle-kaggle-protien-data\\scripts\\practice-images\\000a6c98-bb9b-11e8-b2b9-ac1f6b6435d0_blue.png\")\n",
    "\n",
    "image_arrays = []\n",
    "for subdir, dirs, files in os.walk(rootdir):\n",
    "    for file in files:\n",
    "#         print(subdir + os.sep + file)\n",
    "        filepath = subdir + os.sep + file\n",
    "#         print(np.asarray(Image.open(filepath)))\n",
    "        imarr = np.asarray(Image.open(filepath))\n",
    "#         image_arrays.append(imarr)\n",
    "#         print(filepath)\n",
    "        image_arrays.append(imarr.flatten())"
   ]
  },
  {
   "cell_type": "code",
   "execution_count": null,
   "metadata": {},
   "outputs": [],
   "source": [
    "check\n",
    "new_size = 224,224\n",
    "small = check.resize(new_size, Image.ANTIALIAS)  # best quality on document site\n",
    "np.asarray(small).max()"
   ]
  },
  {
   "cell_type": "code",
   "execution_count": null,
   "metadata": {},
   "outputs": [],
   "source": [
    "rootdir = r\"D:\\kaggle-kaggle-protien-data\\scripts\\practice-images\"\n",
    "new_size = 224,224\n",
    "\n",
    "\n",
    "image_arrays = []\n",
    "for subdir, dirs, files in os.walk(rootdir):\n",
    "    for file in files:\n",
    "#         print(subdir + os.sep + file)\n",
    "        filepath = subdir + os.sep + file\n",
    "        small_file_name = os.path.splitext(file)[0] + '_small'\n",
    "        img = Image.open(filepath)\n",
    "        img.resize(new_size) # default is bicubic for pillow 2.7 and higher.\n",
    "        img.save(small_file_name + '.png')\n",
    "#         img.save(savepath, quality)  3https://stackoverflow.com/questions/1405602/how-to-adjust-the-quality-of-a-resized-image-in-python-imaging-library\n",
    "\n",
    "#         print(np.asarray(Image.open(filepath)))\n",
    "#         imarr = np.asarray(Image.open(filepath))\n",
    "#         image_arrays.append(imarr)\n",
    "#         print(filepath)\n",
    "#         image_arrays.append(imarr.flatten())\n",
    "\n",
    "# antialias is no longer the default because it shows now added advantage. Now it's bicubic.\n",
    "#     https://pillow.readthedocs.io/en/3.0.x/releasenotes/2.7.0.html#default-filter-for-thumbnails"
   ]
  },
  {
   "cell_type": "code",
   "execution_count": null,
   "metadata": {},
   "outputs": [],
   "source": [
    "import sys\n",
    "for infile in sys.argv[2:]:\n",
    "    print(infile)\n",
    "    print(os.path.splitext(infile)[0]+'_thumbnail')"
   ]
  },
  {
   "cell_type": "code",
   "execution_count": null,
   "metadata": {},
   "outputs": [],
   "source": [
    "rootdir = r\"D:\\kaggle-kaggle-protien-data\\scripts\\practice-images\"\n",
    "resize_shape = 224,224\n",
    "\n",
    "\n",
    "image_arrays = []\n",
    "for subdir, dirs, files in os.walk(rootdir):\n",
    "    for file in files:\n",
    "#         print(subdir + os.sep + file)\n",
    "        filepath = subdir + os.sep + file\n",
    "        small_file_name = os.path.splitext(file)[0] + '_small'\n",
    "        img = Image.open(filepath)\n",
    "        \n",
    "        assert np.asarray(img).shape == (512,512), 'An image is not the right shape (512, 512)'\n",
    "        \n",
    "        resized = img.resize(resize_shape) # default is bicubic for pillow 2.7 and higher.\n",
    "        del img\n",
    "        imgarr = np.asarray(resized).flatten()\n",
    "        image_arrays.append(imgarr)\n",
    "        \n",
    "train = np.reshape(image_arrays, newshape=(-1, 4, resize_shape[0], resize_shape[1]))"
   ]
  },
  {
   "cell_type": "code",
   "execution_count": null,
   "metadata": {},
   "outputs": [],
   "source": [
    "train"
   ]
  },
  {
   "cell_type": "code",
   "execution_count": null,
   "metadata": {},
   "outputs": [],
   "source": []
  },
  {
   "cell_type": "code",
   "execution_count": null,
   "metadata": {},
   "outputs": [],
   "source": [
    "## Going for the big train set\n",
    "\n",
    "rootdir = r\"D:\\kaggle-kaggle-protien-data\\train\"\n",
    "resize_shape = 224,224\n",
    "\n",
    "\n",
    "image_arrays = []\n",
    "for subdir, dirs, files in os.walk(rootdir):\n",
    "    for file in files:\n",
    "#         print(subdir + os.sep + file)\n",
    "        filepath = subdir + os.sep + file\n",
    "        small_file_name = os.path.splitext(file)[0] + '_small'\n",
    "        img = Image.open(filepath)\n",
    "        \n",
    "        assert np.asarray(img).shape == (512,512), 'An image is not the right shape (512, 512)'\n",
    "        # default is bicubic for pillow 2.7 and higher. https://pillow.readthedocs.io/en/3.0.x/releasenotes/2.7.0.html#default-filter-for-thumbnails\n",
    "        resized_img = img.resize(resize_shape) \n",
    "        imgarr = np.asarray(resized_img).flatten()\n",
    "        image_arrays.append(imgarr)\n",
    "        \n",
    "        del img, resized_img, imgarr\n",
    "\n",
    "        \n",
    "train = np.reshape(image_arrays, newshape=(-1, 4, resize_shape[0], resize_shape[1]))\n",
    "\n",
    "# with h5py.File('train.h5', 'w') as hf:\n",
    "#     hf.create_dataset('train', data=train)\n",
    "\n",
    "del train"
   ]
  },
  {
   "cell_type": "code",
   "execution_count": 2,
   "metadata": {},
   "outputs": [],
   "source": [
    "with h5py.File('train.h5', 'r') as hf:\n",
    "    train = hf['train'][:]"
   ]
  },
  {
   "cell_type": "code",
   "execution_count": 4,
   "metadata": {},
   "outputs": [
    {
     "data": {
      "text/plain": [
       "(31072, 4, 224, 224)"
      ]
     },
     "execution_count": 4,
     "metadata": {},
     "output_type": "execute_result"
    }
   ],
   "source": [
    "train.shape"
   ]
  },
  {
   "cell_type": "code",
   "execution_count": null,
   "metadata": {},
   "outputs": [],
   "source": [
    "Image.fromarray(train[0,3,:,:])"
   ]
  },
  {
   "cell_type": "code",
   "execution_count": null,
   "metadata": {},
   "outputs": [],
   "source": [
    "one = image_arrays[0]\n",
    "two=image_arrays[:2]\n",
    "np.array(image_arrays).shape"
   ]
  },
  {
   "cell_type": "code",
   "execution_count": null,
   "metadata": {},
   "outputs": [],
   "source": [
    "np.array(one)"
   ]
  },
  {
   "cell_type": "code",
   "execution_count": null,
   "metadata": {},
   "outputs": [],
   "source": [
    "filter_arr = np.asarray(image_arrays)"
   ]
  },
  {
   "cell_type": "code",
   "execution_count": null,
   "metadata": {},
   "outputs": [],
   "source": [
    "flattened_filter_array[:8,:].shape"
   ]
  },
  {
   "cell_type": "code",
   "execution_count": null,
   "metadata": {},
   "outputs": [],
   "source": [
    "test=np.reshape(flattened_filter_array, newshape=(-1,4,224,224))"
   ]
  },
  {
   "cell_type": "code",
   "execution_count": null,
   "metadata": {},
   "outputs": [],
   "source": [
    "Image.fromarray(test[0,0,:,:])"
   ]
  },
  {
   "cell_type": "code",
   "execution_count": null,
   "metadata": {},
   "outputs": [],
   "source": []
  },
  {
   "cell_type": "code",
   "execution_count": null,
   "metadata": {},
   "outputs": [],
   "source": []
  },
  {
   "cell_type": "code",
   "execution_count": 54,
   "metadata": {},
   "outputs": [],
   "source": [
    "rootdir = r\"D:\\kaggle-kaggle-protien-data\\train\"\n",
    "\n",
    "ids = []\n",
    "for subdir, dirs, files in os.walk(rootdir):\n",
    "    for file in files:\n",
    "#         print(subdir + os.sep + file)\n",
    "        imageId = file.split('_')[0]\n",
    "        \n",
    "        if imageId not in ids:\n",
    "            ids.append(imageId)\n",
    "            \n"
   ]
  },
  {
   "cell_type": "code",
   "execution_count": 55,
   "metadata": {},
   "outputs": [],
   "source": [
    "ids = np.asarray(ids, dtype='S')\n",
    "with h5py.File('train.h5', 'a') as hf:\n",
    "    hf.create_dataset('train_ids', data=ids)"
   ]
  },
  {
   "cell_type": "code",
   "execution_count": 59,
   "metadata": {},
   "outputs": [],
   "source": [
    "with h5py.File('train.h5', 'r') as hf:\n",
    "    ids = hf['train_ids'][:]"
   ]
  },
  {
   "cell_type": "code",
   "execution_count": 60,
   "metadata": {},
   "outputs": [
    {
     "data": {
      "text/plain": [
       "array([b'00070df0-bbc3-11e8-b2bc-ac1f6b6435d0',\n",
       "       b'000a6c98-bb9b-11e8-b2b9-ac1f6b6435d0',\n",
       "       b'000a9596-bbc4-11e8-b2bc-ac1f6b6435d0', ...,\n",
       "       b'fff189d8-bbab-11e8-b2ba-ac1f6b6435d0',\n",
       "       b'fffdf7e0-bbc4-11e8-b2bc-ac1f6b6435d0',\n",
       "       b'fffe0ffe-bbc0-11e8-b2bb-ac1f6b6435d0'], dtype='|S36')"
      ]
     },
     "execution_count": 60,
     "metadata": {},
     "output_type": "execute_result"
    }
   ],
   "source": [
    "ids"
   ]
  },
  {
   "cell_type": "code",
   "execution_count": 43,
   "metadata": {},
   "outputs": [],
   "source": [
    "import os\n",
    "import numpy as np\n",
    "from PIL import Image\n",
    "\n",
    "resize_shape = 224,224\n",
    "original_images_path = r\"D:\\kaggle-kaggle-protien-data\\scripts\\practice-images\"\n",
    "save_path_dir = r\"D:\\kaggle-kaggle-protien-data\\scripts\\practice-images-small\"\n",
    "for subdir, dirs, files in os.walk(original_images_path):\n",
    "    for file in files:\n",
    "        filepath = subdir + os.sep + file\n",
    "        small_file_name = os.path.splitext(file)[0] + '_small'\n",
    "        img = Image.open(filepath)\n",
    "\n",
    "        assert np.asarray(img).shape == (512,512), 'An image is not the right shape (512, 512)'\n",
    "        # default is bicubic for pillow 2.7 and higher. https://pillow.readthedocs.io/en/3.0.x/releasenotes/2.7.0.html#default-filter-for-thumbnails\n",
    "        resized_img = img.resize(resize_shape)\n",
    "        resized_img.save(save_path_dir + os.sep + small_file_name + '.png')\n",
    "        \n",
    "        del resized_img, img"
   ]
  }
 ],
 "metadata": {
  "kernelspec": {
   "display_name": "Python 3",
   "language": "python",
   "name": "python3"
  },
  "language_info": {
   "codemirror_mode": {
    "name": "ipython",
    "version": 3
   },
   "file_extension": ".py",
   "mimetype": "text/x-python",
   "name": "python",
   "nbconvert_exporter": "python",
   "pygments_lexer": "ipython3",
   "version": "3.6.8"
  }
 },
 "nbformat": 4,
 "nbformat_minor": 2
}
