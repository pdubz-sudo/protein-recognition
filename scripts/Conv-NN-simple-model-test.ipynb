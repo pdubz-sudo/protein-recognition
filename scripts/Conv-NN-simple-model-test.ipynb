{
 "cells": [
  {
   "cell_type": "code",
   "execution_count": null,
   "metadata": {},
   "outputs": [],
   "source": [
    "import h5py\n",
    "from PIL import Image\n",
    "import numpy as np\n",
    "import pandas as pd\n",
    "import tensorflow as tf\n",
    "import math"
   ]
  },
  {
   "cell_type": "markdown",
   "metadata": {},
   "source": [
    "# Ingest data"
   ]
  },
  {
   "cell_type": "code",
   "execution_count": null,
   "metadata": {},
   "outputs": [],
   "source": [
    "%%time\n",
    "\n",
    "with h5py.File('./data/data.h5', 'r') as f:\n",
    "    train = f['train'][:]#.astype(np.float32)\n",
    "    trainIds = f['train_ids'][:]\n",
    "    \n",
    "# The current dype is uint8. Need to change dtype.\n",
    "train = train.astype(np.float32)\n",
    "\n",
    "# Change channel position to make it easier for pre-trained model.\n",
    "train = np.moveaxis(train, 1,3)\n",
    "print('Training set shape: ',train.shape)"
   ]
  },
  {
   "cell_type": "markdown",
   "metadata": {},
   "source": [
    "# Normalize image arrays"
   ]
  },
  {
   "cell_type": "code",
   "execution_count": null,
   "metadata": {},
   "outputs": [],
   "source": [
    "%%time\n",
    "\n",
    "train = np.divide(train, 255)"
   ]
  },
  {
   "cell_type": "markdown",
   "metadata": {},
   "source": [
    "# Make Y labels for the model"
   ]
  },
  {
   "cell_type": "code",
   "execution_count": null,
   "metadata": {},
   "outputs": [],
   "source": [
    "### Get labels with organelle of interest\n",
    "# 0: 'Nucleoplasm',  \n",
    "# 1: 'Nuclear membrane',   \n",
    "# 2: 'Nucleoli',   \n",
    "# 3: 'Nucleoli fibrillar center',   \n",
    "# 4: 'Nuclear speckles',   \n",
    "# 5: 'Nuclear bodies',   \n",
    "# 6: 'Endoplasmic reticulum',   \n",
    "# 7: 'Golgi apparatus',   \n",
    "# 8: 'Peroxisomes',   \n",
    "# 9: 'Endosomes',   \n",
    "# 10: 'Lysosomes',   \n",
    "# 11: 'Intermediate filaments',   \n",
    "# 12: 'Actin filaments',   \n",
    "# 13: 'Focal adhesion sites',   \n",
    "# 14: 'Microtubules',   \n",
    "# 15: 'Microtubule ends',   \n",
    "# 16: 'Cytokinetic bridge',   \n",
    "# 17: 'Mitotic spindle',   \n",
    "# 18: 'Microtubule organizing center',   \n",
    "# 19: 'Centrosome',   \n",
    "# 20: 'Lipid droplets',   \n",
    "# 21: 'Plasma membrane',   \n",
    "# 22: 'Cell junctions',   \n",
    "# 23: 'Mitochondria',   \n",
    "# 24: 'Aggresome',   \n",
    "# 25: 'Cytosol',   \n",
    "# 26: 'Cytoplasmic bodies',   \n",
    "# 27: 'Rods & rings' \n",
    "\n",
    "targetId = 0\n",
    "\n",
    "file_path = './data/train_labels.csv'\n",
    "dfLabels = pd.read_csv(file_path)\n",
    "dfLabels['Target'] = dfLabels['Target'].apply(lambda x: x.split())\n",
    "idx = [i for i, x in enumerate(dfLabels['Target']) for organelle in x if organelle == str(targetId)]\n",
    "print('Number of samples for targetId {}: {}'.format(targetId, len(idx)))\n",
    "\n",
    "# Get image id's for for samples that have that organelle.\n",
    "labelIds = dfLabels.iloc[idx,:]['Id']\n",
    "\n",
    "# Convert to bytes for matching in the hdf5 label_ids array\n",
    "labelIds = [str.encode(Id) for Id in labelIds]\n",
    "\n",
    "# Fastest and most efficient way to getting matches of 2 lists.\n",
    "# Take the index which will be used to find training examples with a label.\n",
    "# https://stackoverflow.com/questions/29452735/find-the-indices-at-which-any-element-of-one-list-occurs-in-another\n",
    "st = set(labelIds)\n",
    "positiveLabel = [i for i, x in enumerate(trainIds) if x in st]\n",
    "\n",
    "# Initizlize Y\n",
    "Y = np.zeros((len(trainIds), 1))\n",
    "# Fill positive label with positive index list\n",
    "Y[positiveLabel,:] = 1"
   ]
  },
  {
   "cell_type": "markdown",
   "metadata": {},
   "source": [
    "# Split Data: Train, Val, Test"
   ]
  },
  {
   "cell_type": "code",
   "execution_count": null,
   "metadata": {},
   "outputs": [],
   "source": [
    "def train_val_test_split(Xdata, Ydata, train_size, val_size):\n",
    "    '''Shuffle and split data into 3 sub-sets: train, validation, and test.\n",
    "    \n",
    "    Arguments:\n",
    "    Xdata -- numpy array, training data. m must be (m, ...)\n",
    "    Ydata -- numpy array, label data. m must be (m, ...)\n",
    "    train_size -- float, split ratio. Ex. 0.8 for 80% for train data.\n",
    "    val_size -- float, split ratio of desired amount. Ex. 0.2 for 20% for val data.\n",
    "    \n",
    "    Return:\n",
    "    Xdata_train -- X train set\n",
    "    Xdata_val -- X val set\n",
    "    Xdata_test -- X test set\n",
    "    \n",
    "    Ydata_train -- Y train set\n",
    "    Ydata_val -- Y val set\n",
    "    Ydata_test -- Y test set\n",
    "    '''\n",
    "    \n",
    "    assert Xdata.shape[0] == Ydata.shape[0], 'Train and Label examples are not equal.'\n",
    "    \n",
    "    shuff_id = np.random.permutation(train.shape[0])\n",
    "    \n",
    "    train_count = math.floor(Xdata.shape[0]*train_size)\n",
    "    val_count = math.floor(Xdata.shape[0]*val_size)\n",
    "    \n",
    "    train_ix, val_ix, test_ix = np.split(shuff_id, [train_count, train_count+val_count])\n",
    "    \n",
    "    Xdata_train = Xdata[train_ix, ...]\n",
    "    Xdata_val = Xdata[val_ix, ...]\n",
    "    Xdata_test = Xdata[test_ix, ...]\n",
    "        \n",
    "    Ydata_train = Ydata[train_ix, ...]\n",
    "    Ydata_val = Ydata[val_ix, ...]\n",
    "    Ydata_test = Ydata[test_ix, ...]\n",
    "        \n",
    "    return Xdata_train, Xdata_val, Xdata_test, Ydata_train, Ydata_val, Ydata_test"
   ]
  },
  {
   "cell_type": "code",
   "execution_count": null,
   "metadata": {},
   "outputs": [],
   "source": [
    "X_train, X_val, X_test, Y_train, Y_val, Y_test = train_val_test_split(train, Y, 0.7, 0.15)"
   ]
  },
  {
   "cell_type": "code",
   "execution_count": null,
   "metadata": {},
   "outputs": [],
   "source": [
    "assert X_train.shape[0]+X_val.shape[0]+X_test.shape[0]==train.shape[0]"
   ]
  },
  {
   "cell_type": "code",
   "execution_count": null,
   "metadata": {},
   "outputs": [],
   "source": [
    "del train, Y"
   ]
  },
  {
   "cell_type": "code",
   "execution_count": null,
   "metadata": {
    "scrolled": true
   },
   "outputs": [],
   "source": [
    "Image.fromarray(X_train[30,:,:,2]*255).convert('RGB')"
   ]
  },
  {
   "cell_type": "markdown",
   "metadata": {},
   "source": [
    "# Create TensorFlow CNN model"
   ]
  },
  {
   "cell_type": "code",
   "execution_count": null,
   "metadata": {},
   "outputs": [],
   "source": [
    "def create_placeholders():\n",
    "    X = tf.placeholder(dtype=tf.float32, shape=[None, 224, 224, 4], name='Input')\n",
    "    Y = tf.placeholder(dtype=tf.float32, shape=[None, 1], name = 'Labels')\n",
    "    return X, Y"
   ]
  },
  {
   "cell_type": "code",
   "execution_count": null,
   "metadata": {},
   "outputs": [],
   "source": [
    "testY = tf.placeholder(dtype=tf.float32, shape=[None, 1])\n",
    "with tf.Session() as sess:\n",
    "    print(sess.run(testY, feed_dict={testY: Y_val}))"
   ]
  }
 ],
 "metadata": {
  "kernelspec": {
   "display_name": "Python 3",
   "language": "python",
   "name": "python3"
  },
  "language_info": {
   "codemirror_mode": {
    "name": "ipython",
    "version": 3
   },
   "file_extension": ".py",
   "mimetype": "text/x-python",
   "name": "python",
   "nbconvert_exporter": "python",
   "pygments_lexer": "ipython3",
   "version": "3.6.8"
  }
 },
 "nbformat": 4,
 "nbformat_minor": 2
}
